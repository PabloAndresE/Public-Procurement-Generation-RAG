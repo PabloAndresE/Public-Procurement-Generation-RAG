{
 "cells": [
  {
   "cell_type": "markdown",
   "id": "5b183b72",
   "metadata": {},
   "source": [
    "# Normalización de Campos del Corpus CMV\n",
    "Este notebook implementa la normalización de campos del corpus CMV. Toma como entrada el archivo `corpus_cmv.csv` (generado tras el parsing de `.ushay`) y aplica reglas de normalización para dejar el corpus listo para evaluación, visualización o ingestión posterior en un sistema RAG."
   ]
  },
  {
   "cell_type": "markdown",
   "id": "94adad6f",
   "metadata": {},
   "source": [
    "## 1. Cargar corpus original"
   ]
  },
  {
   "cell_type": "code",
   "execution_count": 4,
   "id": "038c88f6",
   "metadata": {},
   "outputs": [
    {
     "name": "stdout",
     "output_type": "stream",
     "text": [
      "Registros: 2, Columnas: 265\n"
     ]
    },
    {
     "data": {
      "text/html": [
       "<div>\n",
       "<style scoped>\n",
       "    .dataframe tbody tr th:only-of-type {\n",
       "        vertical-align: middle;\n",
       "    }\n",
       "\n",
       "    .dataframe tbody tr th {\n",
       "        vertical-align: top;\n",
       "    }\n",
       "\n",
       "    .dataframe thead th {\n",
       "        text-align: right;\n",
       "    }\n",
       "</style>\n",
       "<table border=\"1\" class=\"dataframe\">\n",
       "  <thead>\n",
       "    <tr style=\"text-align: right;\">\n",
       "      <th></th>\n",
       "      <th>file</th>\n",
       "      <th>CP</th>\n",
       "      <th>CPP</th>\n",
       "      <th>DO</th>\n",
       "      <th>VERSION</th>\n",
       "      <th>ID</th>\n",
       "      <th>RUC</th>\n",
       "      <th>LOGO_PATH</th>\n",
       "      <th>NOMBRE_ENTID_CONTRAT</th>\n",
       "      <th>PROVINCIA_COD</th>\n",
       "      <th>...</th>\n",
       "      <th>TIPO_REGIMEN_COD</th>\n",
       "      <th>TIPO_REGIMEN</th>\n",
       "      <th>TIPO_PRESUPUESTO_COD</th>\n",
       "      <th>TIPO_PRESUPUESTO</th>\n",
       "      <th>TIPO_PRODUCTO_COD</th>\n",
       "      <th>TIPO_PRODUCTO</th>\n",
       "      <th>PROCEDIMIENTO_COD</th>\n",
       "      <th>PROCEDIMIENTO</th>\n",
       "      <th>VALOR_PAC</th>\n",
       "      <th>PARTIDA_PRESUPUESTARIA</th>\n",
       "    </tr>\n",
       "  </thead>\n",
       "  <tbody>\n",
       "    <tr>\n",
       "      <th>0</th>\n",
       "      <td>oferta_pli_cotobr.ushay</td>\n",
       "      <td>d49a8f53c5feb3a8077827b9d2a8a54c</td>\n",
       "      <td>COTO-EPN-029-2023</td>\n",
       "      <td>1001581055001</td>\n",
       "      <td>1.6.0</td>\n",
       "      <td>8</td>\n",
       "      <td>1760005620001</td>\n",
       "      <td>1760005620001principal_color.jpg</td>\n",
       "      <td>ESCUELA POLITÉCNICA NACIONAL</td>\n",
       "      <td>17</td>\n",
       "      <td>...</td>\n",
       "      <td>NaN</td>\n",
       "      <td>NaN</td>\n",
       "      <td>NaN</td>\n",
       "      <td>NaN</td>\n",
       "      <td>NaN</td>\n",
       "      <td>NaN</td>\n",
       "      <td>NaN</td>\n",
       "      <td>NaN</td>\n",
       "      <td>NaN</td>\n",
       "      <td>NaN</td>\n",
       "    </tr>\n",
       "    <tr>\n",
       "      <th>1</th>\n",
       "      <td>contratacion_pli_cotobr.ushay</td>\n",
       "      <td>d9f4df1b886038572eb272e5d62c45a4</td>\n",
       "      <td>NaN</td>\n",
       "      <td>NaN</td>\n",
       "      <td>1.2</td>\n",
       "      <td>14</td>\n",
       "      <td>0960006180001</td>\n",
       "      <td>escudo.jpg</td>\n",
       "      <td>GAD MUNICIPAL DEL CANTON NOBOL</td>\n",
       "      <td>09</td>\n",
       "      <td>...</td>\n",
       "      <td>7000</td>\n",
       "      <td>COMUN</td>\n",
       "      <td>7002</td>\n",
       "      <td>PROYECTO DE INVERSIÓN</td>\n",
       "      <td>0</td>\n",
       "      <td>NO APLICA</td>\n",
       "      <td>9</td>\n",
       "      <td>COTIZACION</td>\n",
       "      <td>495930.26</td>\n",
       "      <td>0</td>\n",
       "    </tr>\n",
       "  </tbody>\n",
       "</table>\n",
       "<p>2 rows × 265 columns</p>\n",
       "</div>"
      ],
      "text/plain": [
       "                            file                                CP  \\\n",
       "0        oferta_pli_cotobr.ushay  d49a8f53c5feb3a8077827b9d2a8a54c   \n",
       "1  contratacion_pli_cotobr.ushay  d9f4df1b886038572eb272e5d62c45a4   \n",
       "\n",
       "                 CPP             DO VERSION  ID            RUC  \\\n",
       "0  COTO-EPN-029-2023  1001581055001   1.6.0   8  1760005620001   \n",
       "1                NaN            NaN     1.2  14  0960006180001   \n",
       "\n",
       "                          LOGO_PATH            NOMBRE_ENTID_CONTRAT  \\\n",
       "0  1760005620001principal_color.jpg    ESCUELA POLITÉCNICA NACIONAL   \n",
       "1                        escudo.jpg  GAD MUNICIPAL DEL CANTON NOBOL   \n",
       "\n",
       "  PROVINCIA_COD  ... TIPO_REGIMEN_COD TIPO_REGIMEN TIPO_PRESUPUESTO_COD  \\\n",
       "0            17  ...              NaN          NaN                  NaN   \n",
       "1            09  ...             7000        COMUN                 7002   \n",
       "\n",
       "        TIPO_PRESUPUESTO TIPO_PRODUCTO_COD TIPO_PRODUCTO PROCEDIMIENTO_COD  \\\n",
       "0                    NaN               NaN           NaN               NaN   \n",
       "1  PROYECTO DE INVERSIÓN                 0     NO APLICA                 9   \n",
       "\n",
       "  PROCEDIMIENTO  VALOR_PAC PARTIDA_PRESUPUESTARIA  \n",
       "0           NaN        NaN                    NaN  \n",
       "1    COTIZACION  495930.26                      0  \n",
       "\n",
       "[2 rows x 265 columns]"
      ]
     },
     "execution_count": 4,
     "metadata": {},
     "output_type": "execute_result"
    }
   ],
   "source": [
    "\n",
    "import pandas as pd\n",
    "\n",
    "# Ruta del corpus base\n",
    "INPUT_PATH = \"../../data_curated/corpus_estructurado/corpus_cmv.csv\"\n",
    "df = pd.read_csv(INPUT_PATH, dtype=str)\n",
    "print(f\"Registros: {len(df)}, Columnas: {df.shape[1]}\")\n",
    "df.head(2)\n"
   ]
  },
  {
   "cell_type": "markdown",
   "id": "1396f71a",
   "metadata": {},
   "source": [
    "## 2. Limpieza básica de texto"
   ]
  },
  {
   "cell_type": "code",
   "execution_count": 5,
   "id": "d0ec7d9f",
   "metadata": {},
   "outputs": [],
   "source": [
    "\n",
    "df = df.map(lambda x: x.strip() if isinstance(x, str) else x)\n",
    "df.replace({\"\": None, \"NA\": None, \"na\": None, \"null\": None, \"None\": None}, inplace=True)\n"
   ]
  },
  {
   "cell_type": "markdown",
   "id": "39ddab04",
   "metadata": {},
   "source": [
    "## 3. Normalización de fechas (formato ISO-8601)"
   ]
  },
  {
   "cell_type": "code",
   "execution_count": null,
   "id": "e5d55529",
   "metadata": {},
   "outputs": [
    {
     "name": "stdout",
     "output_type": "stream",
     "text": [
      "Columnas detectadas con 'FECHA': ['FECHA', 'DIAS_FECHALIMITECONVALIDACION', 'ES_FECHA_ENTREGA', 'FECHA_FIRMA_OFERTA', 'TIPO_FECHA_CRONOGRAMA', 'FECHA_FABRICACION', 'FECHA_RECEPCION', 'TIPO_FECHA', 'FECHA_NACIMIENTO_CP', 'FECHA_GRADUACION_CP', 'FECHA_OBTEN_TITUL_CP']\n",
      "→ FECHA_NORMALIZADA: 2/2 filas convertidas\n",
      "→ DIAS_FECHALIMITECONVALIDACION_NORMALIZADA: 0/2 filas convertidas\n",
      "→ ES_FECHA_ENTREGA_NORMALIZADA: 0/2 filas convertidas\n",
      "→ FECHA_FIRMA_OFERTA_NORMALIZADA: 1/2 filas convertidas\n",
      "→ TIPO_FECHA_CRONOGRAMA_NORMALIZADA: 0/2 filas convertidas\n",
      "→ FECHA_FABRICACION_NORMALIZADA: 1/2 filas convertidas\n",
      "→ FECHA_RECEPCION_NORMALIZADA: 1/2 filas convertidas\n",
      "→ TIPO_FECHA_NORMALIZADA: 0/2 filas convertidas\n",
      "→ FECHA_NACIMIENTO_CP_NORMALIZADA: 1/2 filas convertidas\n",
      "→ FECHA_GRADUACION_CP_NORMALIZADA: 1/2 filas convertidas\n",
      "→ FECHA_OBTEN_TITUL_CP_NORMALIZADA: 1/2 filas convertidas\n"
     ]
    },
    {
     "data": {
      "text/html": [
       "<div>\n",
       "<style scoped>\n",
       "    .dataframe tbody tr th:only-of-type {\n",
       "        vertical-align: middle;\n",
       "    }\n",
       "\n",
       "    .dataframe tbody tr th {\n",
       "        vertical-align: top;\n",
       "    }\n",
       "\n",
       "    .dataframe thead th {\n",
       "        text-align: right;\n",
       "    }\n",
       "</style>\n",
       "<table border=\"1\" class=\"dataframe\">\n",
       "  <thead>\n",
       "    <tr style=\"text-align: right;\">\n",
       "      <th></th>\n",
       "      <th>FECHA_NORMALIZADA</th>\n",
       "      <th>DIAS_FECHALIMITECONVALIDACION_NORMALIZADA</th>\n",
       "      <th>ES_FECHA_ENTREGA_NORMALIZADA</th>\n",
       "      <th>FECHA_FIRMA_OFERTA_NORMALIZADA</th>\n",
       "      <th>TIPO_FECHA_CRONOGRAMA_NORMALIZADA</th>\n",
       "      <th>FECHA_FABRICACION_NORMALIZADA</th>\n",
       "      <th>FECHA_RECEPCION_NORMALIZADA</th>\n",
       "      <th>TIPO_FECHA_NORMALIZADA</th>\n",
       "      <th>FECHA_NACIMIENTO_CP_NORMALIZADA</th>\n",
       "      <th>FECHA_GRADUACION_CP_NORMALIZADA</th>\n",
       "      <th>FECHA_OBTEN_TITUL_CP_NORMALIZADA</th>\n",
       "    </tr>\n",
       "  </thead>\n",
       "  <tbody>\n",
       "    <tr>\n",
       "      <th>0</th>\n",
       "      <td>2023-07-14</td>\n",
       "      <td>None</td>\n",
       "      <td>None</td>\n",
       "      <td>2023-07-08</td>\n",
       "      <td>None</td>\n",
       "      <td>2023-01-01</td>\n",
       "      <td>2020-01-14</td>\n",
       "      <td>None</td>\n",
       "      <td>1986-08-26</td>\n",
       "      <td>2012-03-26</td>\n",
       "      <td>2012-03-26</td>\n",
       "    </tr>\n",
       "    <tr>\n",
       "      <th>1</th>\n",
       "      <td>2023-07-20</td>\n",
       "      <td>None</td>\n",
       "      <td>None</td>\n",
       "      <td>None</td>\n",
       "      <td>None</td>\n",
       "      <td>None</td>\n",
       "      <td>None</td>\n",
       "      <td>None</td>\n",
       "      <td>None</td>\n",
       "      <td>None</td>\n",
       "      <td>None</td>\n",
       "    </tr>\n",
       "  </tbody>\n",
       "</table>\n",
       "</div>"
      ],
      "text/plain": [
       "  FECHA_NORMALIZADA DIAS_FECHALIMITECONVALIDACION_NORMALIZADA  \\\n",
       "0        2023-07-14                                      None   \n",
       "1        2023-07-20                                      None   \n",
       "\n",
       "  ES_FECHA_ENTREGA_NORMALIZADA FECHA_FIRMA_OFERTA_NORMALIZADA  \\\n",
       "0                         None                     2023-07-08   \n",
       "1                         None                           None   \n",
       "\n",
       "  TIPO_FECHA_CRONOGRAMA_NORMALIZADA FECHA_FABRICACION_NORMALIZADA  \\\n",
       "0                              None                    2023-01-01   \n",
       "1                              None                          None   \n",
       "\n",
       "  FECHA_RECEPCION_NORMALIZADA TIPO_FECHA_NORMALIZADA  \\\n",
       "0                  2020-01-14                   None   \n",
       "1                        None                   None   \n",
       "\n",
       "  FECHA_NACIMIENTO_CP_NORMALIZADA FECHA_GRADUACION_CP_NORMALIZADA  \\\n",
       "0                      1986-08-26                      2012-03-26   \n",
       "1                            None                            None   \n",
       "\n",
       "  FECHA_OBTEN_TITUL_CP_NORMALIZADA  \n",
       "0                       2012-03-26  \n",
       "1                             None  "
      ]
     },
     "execution_count": 6,
     "metadata": {},
     "output_type": "execute_result"
    }
   ],
   "source": [
    "# 1) identificar columnas de fecha por nombre (búsqueda parcial, case-insensitive)\n",
    "fecha_cols = [c for c in df.columns if \"FECHA\" in c.upper()]\n",
    "\n",
    "print(f\"Columnas detectadas con 'FECHA': {fecha_cols}\")\n",
    "\n",
    "def normalize_any_date(x):\n",
    "    \"\"\"Conversión ligera a fecha:\n",
    "    - intenta parsear con pandas (errors='coerce')\n",
    "    - si falla, reintenta con dayfirst=True\n",
    "    - devuelve 'YYYY-MM-DD' o None si no se pudo\n",
    "    \"\"\"\n",
    "    if pd.isna(x):\n",
    "        return None\n",
    "    s = str(x).strip()\n",
    "    s = s.replace(\"\\\\\", \"/\").replace(\".\", \"/\")\n",
    "    \n",
    "    # intento 1: parseo libre\n",
    "    dt = pd.to_datetime(s, errors=\"coerce\")\n",
    "    # intento 2: asumiendo día/mes primero (útil en datos locales)\n",
    "    if pd.isna(dt):\n",
    "        dt = pd.to_datetime(s, errors=\"coerce\", dayfirst=True)\n",
    "    if pd.isna(dt):\n",
    "        return None\n",
    "    # retornar solo fecha en ISO\n",
    "    return dt.date().isoformat()\n",
    "\n",
    "# 2) crear columnas *_NORMALIZADA para cada columna de fecha\n",
    "for col in fecha_cols:\n",
    "    out_col = f\"{col}_NORMALIZADA\"\n",
    "    df[out_col] = df[col].apply(normalize_any_date)\n",
    "    # mini-resumen por columna\n",
    "    ok = df[out_col].notna().sum()\n",
    "    total = len(df)\n",
    "    print(f\"→ {out_col}: {ok}/{total} filas convertidas\")\n",
    "\n",
    "\n",
    "df[[c for c in df.columns if c.endswith(\"_NORMALIZADA\")]].head()\n",
    "\n"
   ]
  },
  {
   "cell_type": "markdown",
   "id": "8b9b4b95",
   "metadata": {},
   "source": [
    "## 4. Homologación de categorías"
   ]
  },
  {
   "cell_type": "code",
   "execution_count": 7,
   "id": "da7c8941",
   "metadata": {},
   "outputs": [],
   "source": [
    "\n",
    "# Ejemplo: normalizar tipo de persona\n",
    "mapeo_tipo_persona = {\n",
    "    \"NATURAL\": \"Natural\", \"NAT\": \"N\",\n",
    "    \"JURIDICA\": \"Jurídica\", \"JUR\": \"J\"\n",
    "}\n",
    "if \"TIPO_PERSONA\" in df.columns:\n",
    "    df[\"TIPO_PERSONA\"] = df[\"TIPO_PERSONA\"].replace(mapeo_tipo_persona)\n"
   ]
  },
  {
   "cell_type": "markdown",
   "id": "05668514",
   "metadata": {},
   "source": [
    "## 5. Conversión de montos a float"
   ]
  },
  {
   "cell_type": "code",
   "execution_count": 8,
   "id": "029cfc7e",
   "metadata": {},
   "outputs": [],
   "source": [
    "\n",
    "def limpiar_monto(valor):\n",
    "    if pd.isna(valor):\n",
    "        return None\n",
    "    v = str(valor).replace(\"$\", \"\").replace(\",\", \"\").strip()\n",
    "    try:\n",
    "        return float(v)\n",
    "    except:\n",
    "        return None\n",
    "\n",
    "for col in [\"PRESUPUESTO_REFERENCIAL_NUMEROS\", \"VALOR_OFERTADO\", \"VALOR_CONTRATO\", \"TOTAL\"]:\n",
    "    if col in df.columns:\n",
    "        df[col + \"_USD\"] = df[col].apply(limpiar_monto)\n"
   ]
  },
  {
   "cell_type": "markdown",
   "id": "10ffc117",
   "metadata": {},
   "source": [
    "## 6. Enriquecimiento de campos derivados"
   ]
  },
  {
   "cell_type": "code",
   "execution_count": 9,
   "id": "af2da4d1",
   "metadata": {},
   "outputs": [
    {
     "name": "stdout",
     "output_type": "stream",
     "text": [
      "ANIO\n",
      "2023    2\n",
      "Name: count, dtype: int64\n"
     ]
    }
   ],
   "source": [
    "\n",
    "# Año de publicación\n",
    "if \"FECHA_NORMALIZADA\" in df.columns:\n",
    "    df[\"ANIO\"] = df[\"FECHA_NORMALIZADA\"].str[:4]\n",
    "    print(df[\"ANIO\"].value_counts())\n"
   ]
  },
  {
   "cell_type": "markdown",
   "id": "669c0d88",
   "metadata": {},
   "source": [
    "## 7. Guardar corpus normalizado"
   ]
  },
  {
   "cell_type": "code",
   "execution_count": 11,
   "id": "28a16dd6",
   "metadata": {},
   "outputs": [
    {
     "name": "stdout",
     "output_type": "stream",
     "text": [
      "Archivo exportado a: ../../data_curated/corpus_estructurado/corpus_cmv.csv\n"
     ]
    }
   ],
   "source": [
    "\n",
    "OUTPUT_PATH = \"../../data_curated/corpus_estructurado/corpus_cmv.csv\"\n",
    "df.to_csv(OUTPUT_PATH, index=False)\n",
    "print(f\"Archivo exportado a: {OUTPUT_PATH}\")\n"
   ]
  }
 ],
 "metadata": {
  "kernelspec": {
   "display_name": "Python 3",
   "language": "python",
   "name": "python3"
  },
  "language_info": {
   "codemirror_mode": {
    "name": "ipython",
    "version": 3
   },
   "file_extension": ".py",
   "mimetype": "text/x-python",
   "name": "python",
   "nbconvert_exporter": "python",
   "pygments_lexer": "ipython3",
   "version": "3.9.9"
  }
 },
 "nbformat": 4,
 "nbformat_minor": 5
}
